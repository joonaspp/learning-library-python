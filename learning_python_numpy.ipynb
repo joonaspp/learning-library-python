{
 "cells": [
  {
   "cell_type": "markdown",
   "metadata": {},
   "source": [
    "# learning python - numpy"
   ]
  },
  {
   "cell_type": "markdown",
   "metadata": {},
   "source": [
    "Jonas Prado - GitHub: joonaspp"
   ]
  },
  {
   "cell_type": "code",
   "execution_count": 2,
   "metadata": {},
   "outputs": [],
   "source": [
    "#Instalando a biblioteca\n",
    "#!pip install numpy"
   ]
  },
  {
   "cell_type": "code",
   "execution_count": 5,
   "metadata": {},
   "outputs": [],
   "source": [
    "#Importando biblioteca\n",
    "import numpy as np"
   ]
  },
  {
   "cell_type": "code",
   "execution_count": 31,
   "metadata": {},
   "outputs": [
    {
     "name": "stdout",
     "output_type": "stream",
     "text": [
      "[1 2 3 4 5]\n",
      "[0 1 2 3 4]\n"
     ]
    }
   ],
   "source": [
    "#Criando array unidimensional\n",
    "my_array_uni = np.array([1, 2, 3, 4, 5])\n",
    "my_array_uni_2 = np.arange(5)\n",
    "print(my_array_uni)\n",
    "print(my_array_uni_2)"
   ]
  },
  {
   "cell_type": "code",
   "execution_count": 32,
   "metadata": {},
   "outputs": [
    {
     "name": "stdout",
     "output_type": "stream",
     "text": [
      "[[1 2 3 4 5]\n",
      " [1 2 3 4 5]]\n"
     ]
    }
   ],
   "source": [
    "#Criando array bidimensional\n",
    "my_array_bid = np.array([[1, 2, 3, 4, 5], [1, 2, 3, 4, 5]]) \n",
    "print(my_array_bid)"
   ]
  },
  {
   "cell_type": "code",
   "execution_count": 33,
   "metadata": {},
   "outputs": [
    {
     "data": {
      "text/plain": [
       "(2, 5)"
      ]
     },
     "execution_count": 33,
     "metadata": {},
     "output_type": "execute_result"
    }
   ],
   "source": [
    "#Dimensões do array (linha,coluna)\n",
    "np.shape(my_array_uni) # (5,)\n",
    "np.shape(my_array_bid) # (2,5)"
   ]
  },
  {
   "cell_type": "code",
   "execution_count": 34,
   "metadata": {},
   "outputs": [
    {
     "name": "stdout",
     "output_type": "stream",
     "text": [
      "[[0 1]\n",
      " [2 3]\n",
      " [4 5]]\n"
     ]
    }
   ],
   "source": [
    "#Redimensionar um array\n",
    "my_array_red = np.arange(6).reshape((3, 2))\n",
    "print(my_array_red)"
   ]
  },
  {
   "cell_type": "code",
   "execution_count": 166,
   "metadata": {},
   "outputs": [
    {
     "name": "stdout",
     "output_type": "stream",
     "text": [
      "2\n",
      "[2 3]\n",
      "[2 3 4 5]\n",
      "5\n"
     ]
    }
   ],
   "source": [
    "#Imprimindo os elementos do array individualmente\n",
    "print(my_array_uni[1]) \n",
    "print(my_array_uni[1:3])\n",
    "print(my_array_uni[1:])\n",
    "print(my_array_bid[0,4])"
   ]
  },
  {
   "cell_type": "code",
   "execution_count": 44,
   "metadata": {},
   "outputs": [
    {
     "name": "stdout",
     "output_type": "stream",
     "text": [
      "[-1  2  3  4  5]\n",
      "[[-1  2  3  4  5]\n",
      " [ 1  2  3  4  5]]\n"
     ]
    }
   ],
   "source": [
    "#Modificando elementos do array\n",
    "my_array_uni[0] = -1 \n",
    "my_array_bid[0,0] = -1 \n",
    "print(my_array_uni)\n",
    "print(my_array_bid) "
   ]
  },
  {
   "cell_type": "code",
   "execution_count": 54,
   "metadata": {},
   "outputs": [
    {
     "name": "stdout",
     "output_type": "stream",
     "text": [
      "[[7602288 4325421]\n",
      " [     82       0]\n",
      " [      0       0]]\n"
     ]
    }
   ],
   "source": [
    "#Criando array vazia e especificando os tipos de dados\n",
    "my_array_vaz = np.empty([3,2], dtype = int) # shape, datatype\n",
    "print(my_array_vaz)"
   ]
  },
  {
   "cell_type": "code",
   "execution_count": 170,
   "metadata": {},
   "outputs": [
    {
     "name": "stdout",
     "output_type": "stream",
     "text": [
      "[0. 0. 0. 0. 0.]\n",
      "[1. 1. 1. 1. 1.]\n",
      "[0.66023648 0.31077589 0.75441735 0.72524475 0.9909572 ]\n",
      "[10.  6.  9.  5.  1.]\n"
     ]
    }
   ],
   "source": [
    "#Definindo valores de um array unidimensional (zeros, ones, random, random com faixa)\n",
    "my_array_zer = np.zeros((5)) \n",
    "my_array_one = np.ones((5)) \n",
    "my_array_rand = np.random.random((5)) \n",
    "my_array_rand_fx = np.floor(-11*np.random.random((5))+11) # 0 e 10 \n",
    "print(my_array_zer)\n",
    "print(my_array_one)\n",
    "print(my_array_rand)\n",
    "print(my_array_rand_fx)"
   ]
  },
  {
   "cell_type": "code",
   "execution_count": 171,
   "metadata": {},
   "outputs": [
    {
     "name": "stdout",
     "output_type": "stream",
     "text": [
      "[[0. 0. 0. 0. 0.]\n",
      " [0. 0. 0. 0. 0.]]\n",
      "[[1. 1. 1. 1. 1.]\n",
      " [1. 1. 1. 1. 1.]]\n",
      "[[0.36718708 0.73030575 0.9212699  0.47923496 0.07933334]\n",
      " [0.8550043  0.08503469 0.96798396 0.24511005 0.1992911 ]]\n",
      "[[ 9.  5.  5.  2. 10.]\n",
      " [ 4.  4.  4.  6.  0.]]\n"
     ]
    }
   ],
   "source": [
    "#Definindo valores de um array bidimensional (zeros, ones, random, random com faixa)\n",
    "my_array_bid_zer = np.zeros((2,5)) \n",
    "my_array_bid_one = np.ones((2,5)) \n",
    "my_array_bid_rand = np.random.random((2,5)) \n",
    "my_array_bid_rand_fx = np.floor(-11*np.random.random((2,5))+11) # 0 e 10 \n",
    "print(my_array_bid_zer)\n",
    "print(my_array_bid_one)\n",
    "print(my_array_bid_rand)\n",
    "print(my_array_bid_rand_fx)"
   ]
  },
  {
   "cell_type": "code",
   "execution_count": 174,
   "metadata": {},
   "outputs": [
    {
     "name": "stdout",
     "output_type": "stream",
     "text": [
      "[[4 5]\n",
      " [6 1]]\n",
      "[5 1]\n"
     ]
    }
   ],
   "source": [
    "#Extrair linhas ou colunas de um array existente\n",
    "my_array_ext = np.array([[4, 5], [6, 1]])\n",
    "my_array_ext_2 = my_array_ext[:, 1]\n",
    "print(my_array_ext)\n",
    "print(my_array_ext_2)"
   ]
  },
  {
   "cell_type": "code",
   "execution_count": 189,
   "metadata": {},
   "outputs": [
    {
     "name": "stdout",
     "output_type": "stream",
     "text": [
      "[[ 6.  8.]\n",
      " [10. 12.]]\n",
      "[[-4. -4.]\n",
      " [-4. -4.]]\n",
      "[[ 5. 12.]\n",
      " [21. 32.]]\n",
      "[[0.2        0.33333333]\n",
      " [0.42857143 0.5       ]]\n"
     ]
    }
   ],
   "source": [
    "#Soma, subtração, multiplicação e divisão dos elementos dos arrays\n",
    "my_array_a = np.array([[1.0, 2.0], [3.0, 4.0]])\n",
    "my_array_b = np.array([[5.0, 6.0], [7.0, 8.0]])\n",
    "print(my_array_a + my_array_b) # Soma\n",
    "print(my_array_a - my_array_b) # Subtração\n",
    "print(my_array_a * my_array_b) # Multiplicação\n",
    "print(my_array_a / my_array_b) # Divisão"
   ]
  },
  {
   "cell_type": "code",
   "execution_count": 191,
   "metadata": {},
   "outputs": [
    {
     "data": {
      "text/plain": [
       "array([[19., 22.],\n",
       "       [43., 50.]])"
      ]
     },
     "execution_count": 191,
     "metadata": {},
     "output_type": "execute_result"
    }
   ],
   "source": [
    "#Multiplicação de matrizes\n",
    "my_array_a.dot(my_array_b) # [1l x 1c, 1l x 2c] [2l x 1c, 2l x 2c]"
   ]
  }
 ],
 "metadata": {
  "kernelspec": {
   "display_name": "Python 3",
   "language": "python",
   "name": "python3"
  },
  "language_info": {
   "codemirror_mode": {
    "name": "ipython",
    "version": 3
   },
   "file_extension": ".py",
   "mimetype": "text/x-python",
   "name": "python",
   "nbconvert_exporter": "python",
   "pygments_lexer": "ipython3",
   "version": "3.6.5"
  }
 },
 "nbformat": 4,
 "nbformat_minor": 2
}
