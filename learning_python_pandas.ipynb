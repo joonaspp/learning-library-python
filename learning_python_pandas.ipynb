{
 "cells": [
  {
   "cell_type": "markdown",
   "metadata": {},
   "source": [
    "# learning python - pandas"
   ]
  },
  {
   "cell_type": "markdown",
   "metadata": {},
   "source": [
    "Jonas Prado - GitHub: joonaspp"
   ]
  },
  {
   "cell_type": "markdown",
   "metadata": {},
   "source": [
    "- install library\n",
    "- import library\n",
    "- Criando uma Series\n",
    "- Operações aritméticas em Series\n",
    "- Criando um DataFrame\n",
    "- Dimensões de um DataFrame\n",
    "- Colunas do DataFrame\n",
    "- Exibindo primeiras 5 linhas de um DataFrame\n",
    "- Adicionando linhas em um DataFrame\n",
    "- Removendo linhas em um DataFrame\n",
    "- Adicionando colunas em um DataFrame\n",
    "- Removendo colunas em um DataFrame\n",
    "- Contagem de dados (não nulos)\n",
    "- Cálculos - Operações Aritméticas\n",
    "- Cálculos - Soma\n",
    "- Cálculos - Minimo\n",
    "- Cálculos - Máxima\n",
    "- Cálculos - Média\n",
    "- Cálculos - Mediana\n",
    "- Cálculos - Resumo estatístico (count, mean, std, min, 25%, 50%, 75%, max)\n",
    "- Ordenando valores em crescente\n",
    "- Ordenando valores em decrescente\n",
    "- Plotando gráfico de barra\n",
    "- Replace\n",
    "- Print\n",
    "- Incluindo campo de busca\n",
    "- Abrindo arquivos CSV\n",
    "- Abrindo arquivos Excel"
   ]
  },
  {
   "cell_type": "code",
   "execution_count": 2,
   "metadata": {},
   "outputs": [],
   "source": [
    "#install library\n",
    "#!pip install pandas"
   ]
  },
  {
   "cell_type": "code",
   "execution_count": 2,
   "metadata": {},
   "outputs": [],
   "source": [
    "#import library\n",
    "import pandas as pd"
   ]
  },
  {
   "cell_type": "code",
   "execution_count": 93,
   "metadata": {},
   "outputs": [],
   "source": [
    "#Criando uma Series (array de 1 dimensão) \n",
    "s = pd.Series([1, 2, 3, 4, 5], index=['a', 'b', 'c', 'd', 'e'])"
   ]
  },
  {
   "cell_type": "code",
   "execution_count": 96,
   "metadata": {},
   "outputs": [
    {
     "data": {
      "text/plain": [
       "a    0.5\n",
       "b    1.0\n",
       "c    1.5\n",
       "d    2.0\n",
       "e    2.5\n",
       "dtype: float64"
      ]
     },
     "execution_count": 96,
     "metadata": {},
     "output_type": "execute_result"
    }
   ],
   "source": [
    "#Somando todos os valores presentes na Series por 2\n",
    "s.add(2)\n",
    "#Subtraindo 2 de todos os valores\n",
    "s.sub(2)\n",
    "#Multiplicando todos os valores por 2\n",
    "s.mul(2)\n",
    "#Dividindo valores por 2\n",
    "s.div(2)"
   ]
  },
  {
   "cell_type": "code",
   "execution_count": 50,
   "metadata": {},
   "outputs": [],
   "source": [
    "#Criando um DataFrame (2 dimensões)\n",
    "df = pd.DataFrame({\n",
    "    'Date':['11/05/19', '12/05/19', '19/05/19', '25/05/19', '26/05/19', '1/06/19'],\n",
    "    'Time Worked': [3, 3, 4, 3, 3, 4],\n",
    "    'Money Earned': [33.94, 33.94, 46, 33.94, 33.94, 46],\n",
    "    'Empty': ['','','','','','']})"
   ]
  },
  {
   "cell_type": "code",
   "execution_count": 51,
   "metadata": {},
   "outputs": [
    {
     "data": {
      "text/plain": [
       "(6, 4)"
      ]
     },
     "execution_count": 51,
     "metadata": {},
     "output_type": "execute_result"
    }
   ],
   "source": [
    "#Dimensões de um DataFrame\n",
    "df.shape"
   ]
  },
  {
   "cell_type": "code",
   "execution_count": 52,
   "metadata": {},
   "outputs": [
    {
     "data": {
      "text/plain": [
       "Index(['Date', 'Time Worked', 'Money Earned', 'Empty'], dtype='object')"
      ]
     },
     "execution_count": 52,
     "metadata": {},
     "output_type": "execute_result"
    }
   ],
   "source": [
    "#Colunas do DataFrame\n",
    "df.columns"
   ]
  },
  {
   "cell_type": "code",
   "execution_count": 53,
   "metadata": {},
   "outputs": [],
   "source": [
    "#Renomeando colunas de um DataFrame\n",
    "df.columns = ['Date', 'Time Worked', 'Money Earned','Empty']"
   ]
  },
  {
   "cell_type": "code",
   "execution_count": 54,
   "metadata": {},
   "outputs": [
    {
     "data": {
      "text/html": [
       "<div>\n",
       "<style scoped>\n",
       "    .dataframe tbody tr th:only-of-type {\n",
       "        vertical-align: middle;\n",
       "    }\n",
       "\n",
       "    .dataframe tbody tr th {\n",
       "        vertical-align: top;\n",
       "    }\n",
       "\n",
       "    .dataframe thead th {\n",
       "        text-align: right;\n",
       "    }\n",
       "</style>\n",
       "<table border=\"1\" class=\"dataframe\">\n",
       "  <thead>\n",
       "    <tr style=\"text-align: right;\">\n",
       "      <th></th>\n",
       "      <th>Date</th>\n",
       "      <th>Time Worked</th>\n",
       "      <th>Money Earned</th>\n",
       "      <th>Empty</th>\n",
       "    </tr>\n",
       "  </thead>\n",
       "  <tbody>\n",
       "    <tr>\n",
       "      <th>0</th>\n",
       "      <td>11/05/19</td>\n",
       "      <td>3</td>\n",
       "      <td>33.94</td>\n",
       "      <td></td>\n",
       "    </tr>\n",
       "    <tr>\n",
       "      <th>1</th>\n",
       "      <td>12/05/19</td>\n",
       "      <td>3</td>\n",
       "      <td>33.94</td>\n",
       "      <td></td>\n",
       "    </tr>\n",
       "    <tr>\n",
       "      <th>2</th>\n",
       "      <td>19/05/19</td>\n",
       "      <td>4</td>\n",
       "      <td>46.00</td>\n",
       "      <td></td>\n",
       "    </tr>\n",
       "    <tr>\n",
       "      <th>3</th>\n",
       "      <td>25/05/19</td>\n",
       "      <td>3</td>\n",
       "      <td>33.94</td>\n",
       "      <td></td>\n",
       "    </tr>\n",
       "    <tr>\n",
       "      <th>4</th>\n",
       "      <td>26/05/19</td>\n",
       "      <td>3</td>\n",
       "      <td>33.94</td>\n",
       "      <td></td>\n",
       "    </tr>\n",
       "  </tbody>\n",
       "</table>\n",
       "</div>"
      ],
      "text/plain": [
       "       Date  Time Worked  Money Earned Empty\n",
       "0  11/05/19            3         33.94      \n",
       "1  12/05/19            3         33.94      \n",
       "2  19/05/19            4         46.00      \n",
       "3  25/05/19            3         33.94      \n",
       "4  26/05/19            3         33.94      "
      ]
     },
     "execution_count": 54,
     "metadata": {},
     "output_type": "execute_result"
    }
   ],
   "source": [
    "#Exibindo primeiras 5 linhas de um DataFrame\n",
    "df.head()"
   ]
  },
  {
   "cell_type": "code",
   "execution_count": 55,
   "metadata": {},
   "outputs": [
    {
     "data": {
      "text/html": [
       "<div>\n",
       "<style scoped>\n",
       "    .dataframe tbody tr th:only-of-type {\n",
       "        vertical-align: middle;\n",
       "    }\n",
       "\n",
       "    .dataframe tbody tr th {\n",
       "        vertical-align: top;\n",
       "    }\n",
       "\n",
       "    .dataframe thead th {\n",
       "        text-align: right;\n",
       "    }\n",
       "</style>\n",
       "<table border=\"1\" class=\"dataframe\">\n",
       "  <thead>\n",
       "    <tr style=\"text-align: right;\">\n",
       "      <th></th>\n",
       "      <th>Date</th>\n",
       "      <th>Time Worked</th>\n",
       "      <th>Money Earned</th>\n",
       "      <th>Empty</th>\n",
       "    </tr>\n",
       "  </thead>\n",
       "  <tbody>\n",
       "    <tr>\n",
       "      <th>0</th>\n",
       "      <td>11/05/19</td>\n",
       "      <td>3</td>\n",
       "      <td>33.94</td>\n",
       "      <td></td>\n",
       "    </tr>\n",
       "    <tr>\n",
       "      <th>1</th>\n",
       "      <td>12/05/19</td>\n",
       "      <td>3</td>\n",
       "      <td>33.94</td>\n",
       "      <td></td>\n",
       "    </tr>\n",
       "    <tr>\n",
       "      <th>2</th>\n",
       "      <td>19/05/19</td>\n",
       "      <td>4</td>\n",
       "      <td>46.00</td>\n",
       "      <td></td>\n",
       "    </tr>\n",
       "    <tr>\n",
       "      <th>3</th>\n",
       "      <td>25/05/19</td>\n",
       "      <td>3</td>\n",
       "      <td>33.94</td>\n",
       "      <td></td>\n",
       "    </tr>\n",
       "    <tr>\n",
       "      <th>4</th>\n",
       "      <td>26/05/19</td>\n",
       "      <td>3</td>\n",
       "      <td>33.94</td>\n",
       "      <td></td>\n",
       "    </tr>\n",
       "    <tr>\n",
       "      <th>5</th>\n",
       "      <td>1/06/19</td>\n",
       "      <td>4</td>\n",
       "      <td>46.00</td>\n",
       "      <td></td>\n",
       "    </tr>\n",
       "    <tr>\n",
       "      <th>6</th>\n",
       "      <td>10/06/19</td>\n",
       "      <td>3</td>\n",
       "      <td>33.94</td>\n",
       "      <td></td>\n",
       "    </tr>\n",
       "    <tr>\n",
       "      <th>7</th>\n",
       "      <td>12/06/19</td>\n",
       "      <td>4</td>\n",
       "      <td>46.00</td>\n",
       "      <td></td>\n",
       "    </tr>\n",
       "    <tr>\n",
       "      <th>8</th>\n",
       "      <td>14/06/19</td>\n",
       "      <td>3</td>\n",
       "      <td>33.94</td>\n",
       "      <td></td>\n",
       "    </tr>\n",
       "  </tbody>\n",
       "</table>\n",
       "</div>"
      ],
      "text/plain": [
       "       Date  Time Worked  Money Earned Empty\n",
       "0  11/05/19            3         33.94      \n",
       "1  12/05/19            3         33.94      \n",
       "2  19/05/19            4         46.00      \n",
       "3  25/05/19            3         33.94      \n",
       "4  26/05/19            3         33.94      \n",
       "5   1/06/19            4         46.00      \n",
       "6  10/06/19            3         33.94      \n",
       "7  12/06/19            4         46.00      \n",
       "8  14/06/19            3         33.94      "
      ]
     },
     "execution_count": 55,
     "metadata": {},
     "output_type": "execute_result"
    }
   ],
   "source": [
    "#Adicionando linhas em um DataFrame\n",
    "df2 = pd.DataFrame({'Date': ['10/06/19', '12/06/19', '14/06/19'],\n",
    "                    'Time Worked': [3, 4, 3],\n",
    "                    'Money Earned': [33.94, 46, 33.94],\n",
    "                    'Empty': ['','','']})\n",
    "\n",
    "df = df.append(df2, ignore_index=True, sort = False)\n",
    "df"
   ]
  },
  {
   "cell_type": "code",
   "execution_count": 104,
   "metadata": {},
   "outputs": [
    {
     "data": {
      "text/html": [
       "<div>\n",
       "<style scoped>\n",
       "    .dataframe tbody tr th:only-of-type {\n",
       "        vertical-align: middle;\n",
       "    }\n",
       "\n",
       "    .dataframe tbody tr th {\n",
       "        vertical-align: top;\n",
       "    }\n",
       "\n",
       "    .dataframe thead th {\n",
       "        text-align: right;\n",
       "    }\n",
       "</style>\n",
       "<table border=\"1\" class=\"dataframe\">\n",
       "  <thead>\n",
       "    <tr style=\"text-align: right;\">\n",
       "      <th></th>\n",
       "      <th>Date</th>\n",
       "      <th>Time Worked</th>\n",
       "      <th>Money Earned</th>\n",
       "    </tr>\n",
       "  </thead>\n",
       "  <tbody>\n",
       "    <tr>\n",
       "      <th>1</th>\n",
       "      <td>12/05/19</td>\n",
       "      <td>3</td>\n",
       "      <td>33.94</td>\n",
       "    </tr>\n",
       "    <tr>\n",
       "      <th>2</th>\n",
       "      <td>19/05/19</td>\n",
       "      <td>4</td>\n",
       "      <td>46.00</td>\n",
       "    </tr>\n",
       "    <tr>\n",
       "      <th>3</th>\n",
       "      <td>25/05/19</td>\n",
       "      <td>3</td>\n",
       "      <td>33.94</td>\n",
       "    </tr>\n",
       "    <tr>\n",
       "      <th>4</th>\n",
       "      <td>26/05/19</td>\n",
       "      <td>3</td>\n",
       "      <td>33.94</td>\n",
       "    </tr>\n",
       "    <tr>\n",
       "      <th>5</th>\n",
       "      <td>1/06/19</td>\n",
       "      <td>4</td>\n",
       "      <td>46.00</td>\n",
       "    </tr>\n",
       "    <tr>\n",
       "      <th>6</th>\n",
       "      <td>10/06/19</td>\n",
       "      <td>3</td>\n",
       "      <td>33.94</td>\n",
       "    </tr>\n",
       "    <tr>\n",
       "      <th>7</th>\n",
       "      <td>12/06/19</td>\n",
       "      <td>4</td>\n",
       "      <td>46.00</td>\n",
       "    </tr>\n",
       "    <tr>\n",
       "      <th>8</th>\n",
       "      <td>14/06/19</td>\n",
       "      <td>3</td>\n",
       "      <td>33.94</td>\n",
       "    </tr>\n",
       "  </tbody>\n",
       "</table>\n",
       "</div>"
      ],
      "text/plain": [
       "       Date  Time Worked  Money Earned\n",
       "1  12/05/19            3         33.94\n",
       "2  19/05/19            4         46.00\n",
       "3  25/05/19            3         33.94\n",
       "4  26/05/19            3         33.94\n",
       "5   1/06/19            4         46.00\n",
       "6  10/06/19            3         33.94\n",
       "7  12/06/19            4         46.00\n",
       "8  14/06/19            3         33.94"
      ]
     },
     "execution_count": 104,
     "metadata": {},
     "output_type": "execute_result"
    }
   ],
   "source": [
    "#Removendo linhas em um DataFrame pelo Indice\n",
    "df.drop(0)\n",
    "#df = df.drop(0)"
   ]
  },
  {
   "cell_type": "code",
   "execution_count": 56,
   "metadata": {},
   "outputs": [
    {
     "data": {
      "text/html": [
       "<div>\n",
       "<style scoped>\n",
       "    .dataframe tbody tr th:only-of-type {\n",
       "        vertical-align: middle;\n",
       "    }\n",
       "\n",
       "    .dataframe tbody tr th {\n",
       "        vertical-align: top;\n",
       "    }\n",
       "\n",
       "    .dataframe thead th {\n",
       "        text-align: right;\n",
       "    }\n",
       "</style>\n",
       "<table border=\"1\" class=\"dataframe\">\n",
       "  <thead>\n",
       "    <tr style=\"text-align: right;\">\n",
       "      <th></th>\n",
       "      <th>Date</th>\n",
       "      <th>Time Worked</th>\n",
       "      <th>Money Earned</th>\n",
       "      <th>Empty</th>\n",
       "      <th>New</th>\n",
       "    </tr>\n",
       "  </thead>\n",
       "  <tbody>\n",
       "    <tr>\n",
       "      <th>0</th>\n",
       "      <td>11/05/19</td>\n",
       "      <td>3</td>\n",
       "      <td>33.94</td>\n",
       "      <td></td>\n",
       "      <td></td>\n",
       "    </tr>\n",
       "    <tr>\n",
       "      <th>1</th>\n",
       "      <td>12/05/19</td>\n",
       "      <td>3</td>\n",
       "      <td>33.94</td>\n",
       "      <td></td>\n",
       "      <td></td>\n",
       "    </tr>\n",
       "    <tr>\n",
       "      <th>2</th>\n",
       "      <td>19/05/19</td>\n",
       "      <td>4</td>\n",
       "      <td>46.00</td>\n",
       "      <td></td>\n",
       "      <td></td>\n",
       "    </tr>\n",
       "    <tr>\n",
       "      <th>3</th>\n",
       "      <td>25/05/19</td>\n",
       "      <td>3</td>\n",
       "      <td>33.94</td>\n",
       "      <td></td>\n",
       "      <td></td>\n",
       "    </tr>\n",
       "    <tr>\n",
       "      <th>4</th>\n",
       "      <td>26/05/19</td>\n",
       "      <td>3</td>\n",
       "      <td>33.94</td>\n",
       "      <td></td>\n",
       "      <td></td>\n",
       "    </tr>\n",
       "    <tr>\n",
       "      <th>5</th>\n",
       "      <td>1/06/19</td>\n",
       "      <td>4</td>\n",
       "      <td>46.00</td>\n",
       "      <td></td>\n",
       "      <td></td>\n",
       "    </tr>\n",
       "    <tr>\n",
       "      <th>6</th>\n",
       "      <td>10/06/19</td>\n",
       "      <td>3</td>\n",
       "      <td>33.94</td>\n",
       "      <td></td>\n",
       "      <td></td>\n",
       "    </tr>\n",
       "    <tr>\n",
       "      <th>7</th>\n",
       "      <td>12/06/19</td>\n",
       "      <td>4</td>\n",
       "      <td>46.00</td>\n",
       "      <td></td>\n",
       "      <td></td>\n",
       "    </tr>\n",
       "    <tr>\n",
       "      <th>8</th>\n",
       "      <td>14/06/19</td>\n",
       "      <td>3</td>\n",
       "      <td>33.94</td>\n",
       "      <td></td>\n",
       "      <td></td>\n",
       "    </tr>\n",
       "  </tbody>\n",
       "</table>\n",
       "</div>"
      ],
      "text/plain": [
       "       Date  Time Worked  Money Earned Empty New\n",
       "0  11/05/19            3         33.94          \n",
       "1  12/05/19            3         33.94          \n",
       "2  19/05/19            4         46.00          \n",
       "3  25/05/19            3         33.94          \n",
       "4  26/05/19            3         33.94          \n",
       "5   1/06/19            4         46.00          \n",
       "6  10/06/19            3         33.94          \n",
       "7  12/06/19            4         46.00          \n",
       "8  14/06/19            3         33.94          "
      ]
     },
     "execution_count": 56,
     "metadata": {},
     "output_type": "execute_result"
    }
   ],
   "source": [
    "#Adicionando colunas em um DataFrame\n",
    "df['New'] = ''\n",
    "df"
   ]
  },
  {
   "cell_type": "code",
   "execution_count": 57,
   "metadata": {},
   "outputs": [
    {
     "data": {
      "text/html": [
       "<div>\n",
       "<style scoped>\n",
       "    .dataframe tbody tr th:only-of-type {\n",
       "        vertical-align: middle;\n",
       "    }\n",
       "\n",
       "    .dataframe tbody tr th {\n",
       "        vertical-align: top;\n",
       "    }\n",
       "\n",
       "    .dataframe thead th {\n",
       "        text-align: right;\n",
       "    }\n",
       "</style>\n",
       "<table border=\"1\" class=\"dataframe\">\n",
       "  <thead>\n",
       "    <tr style=\"text-align: right;\">\n",
       "      <th></th>\n",
       "      <th>Date</th>\n",
       "      <th>Time Worked</th>\n",
       "      <th>Money Earned</th>\n",
       "    </tr>\n",
       "  </thead>\n",
       "  <tbody>\n",
       "    <tr>\n",
       "      <th>0</th>\n",
       "      <td>11/05/19</td>\n",
       "      <td>3</td>\n",
       "      <td>33.94</td>\n",
       "    </tr>\n",
       "    <tr>\n",
       "      <th>1</th>\n",
       "      <td>12/05/19</td>\n",
       "      <td>3</td>\n",
       "      <td>33.94</td>\n",
       "    </tr>\n",
       "    <tr>\n",
       "      <th>2</th>\n",
       "      <td>19/05/19</td>\n",
       "      <td>4</td>\n",
       "      <td>46.00</td>\n",
       "    </tr>\n",
       "    <tr>\n",
       "      <th>3</th>\n",
       "      <td>25/05/19</td>\n",
       "      <td>3</td>\n",
       "      <td>33.94</td>\n",
       "    </tr>\n",
       "    <tr>\n",
       "      <th>4</th>\n",
       "      <td>26/05/19</td>\n",
       "      <td>3</td>\n",
       "      <td>33.94</td>\n",
       "    </tr>\n",
       "    <tr>\n",
       "      <th>5</th>\n",
       "      <td>1/06/19</td>\n",
       "      <td>4</td>\n",
       "      <td>46.00</td>\n",
       "    </tr>\n",
       "    <tr>\n",
       "      <th>6</th>\n",
       "      <td>10/06/19</td>\n",
       "      <td>3</td>\n",
       "      <td>33.94</td>\n",
       "    </tr>\n",
       "    <tr>\n",
       "      <th>7</th>\n",
       "      <td>12/06/19</td>\n",
       "      <td>4</td>\n",
       "      <td>46.00</td>\n",
       "    </tr>\n",
       "    <tr>\n",
       "      <th>8</th>\n",
       "      <td>14/06/19</td>\n",
       "      <td>3</td>\n",
       "      <td>33.94</td>\n",
       "    </tr>\n",
       "  </tbody>\n",
       "</table>\n",
       "</div>"
      ],
      "text/plain": [
       "       Date  Time Worked  Money Earned\n",
       "0  11/05/19            3         33.94\n",
       "1  12/05/19            3         33.94\n",
       "2  19/05/19            4         46.00\n",
       "3  25/05/19            3         33.94\n",
       "4  26/05/19            3         33.94\n",
       "5   1/06/19            4         46.00\n",
       "6  10/06/19            3         33.94\n",
       "7  12/06/19            4         46.00\n",
       "8  14/06/19            3         33.94"
      ]
     },
     "execution_count": 57,
     "metadata": {},
     "output_type": "execute_result"
    }
   ],
   "source": [
    "#Removendo colunas em um DataFrame\n",
    "df = df.drop(['Empty','New'], axis=1)\n",
    "df"
   ]
  },
  {
   "cell_type": "code",
   "execution_count": 58,
   "metadata": {},
   "outputs": [
    {
     "data": {
      "text/plain": [
       "Date            9\n",
       "Time Worked     9\n",
       "Money Earned    9\n",
       "dtype: int64"
      ]
     },
     "execution_count": 58,
     "metadata": {},
     "output_type": "execute_result"
    }
   ],
   "source": [
    "#Contagem de dados (não nulos)\n",
    "df.count()"
   ]
  },
  {
   "cell_type": "code",
   "execution_count": 109,
   "metadata": {},
   "outputs": [
    {
     "data": {
      "text/plain": [
       "1"
      ]
     },
     "execution_count": 109,
     "metadata": {},
     "output_type": "execute_result"
    }
   ],
   "source": [
    "#Cálculos - Operações Aritméticas\n",
    "5+5 #soma\n",
    "10-2 #subtração\n",
    "2*2 #multiplicação\n",
    "81/9 #divisão\n",
    "2**5 #exponenciação\n",
    "10//9 #extração da parte inteira da divisão"
   ]
  },
  {
   "cell_type": "code",
   "execution_count": 70,
   "metadata": {},
   "outputs": [
    {
     "data": {
      "text/plain": [
       "341.64"
      ]
     },
     "execution_count": 70,
     "metadata": {},
     "output_type": "execute_result"
    }
   ],
   "source": [
    "#Cálculos - Soma\n",
    "df['Money Earned'].sum()"
   ]
  },
  {
   "cell_type": "code",
   "execution_count": 71,
   "metadata": {},
   "outputs": [
    {
     "data": {
      "text/plain": [
       "33.94"
      ]
     },
     "execution_count": 71,
     "metadata": {},
     "output_type": "execute_result"
    }
   ],
   "source": [
    "#Cálculos - Minimo\n",
    "df['Money Earned'].min()"
   ]
  },
  {
   "cell_type": "code",
   "execution_count": 72,
   "metadata": {},
   "outputs": [
    {
     "data": {
      "text/plain": [
       "46.0"
      ]
     },
     "execution_count": 72,
     "metadata": {},
     "output_type": "execute_result"
    }
   ],
   "source": [
    "#Cálculos - Máximo\n",
    "df['Money Earned'].max()"
   ]
  },
  {
   "cell_type": "code",
   "execution_count": 77,
   "metadata": {},
   "outputs": [
    {
     "data": {
      "text/plain": [
       "37.96"
      ]
     },
     "execution_count": 77,
     "metadata": {},
     "output_type": "execute_result"
    }
   ],
   "source": [
    "#Cálculos - Média\n",
    "df['Money Earned'].mean()"
   ]
  },
  {
   "cell_type": "code",
   "execution_count": 79,
   "metadata": {},
   "outputs": [
    {
     "data": {
      "text/plain": [
       "33.94"
      ]
     },
     "execution_count": 79,
     "metadata": {},
     "output_type": "execute_result"
    }
   ],
   "source": [
    "#Cálculos - Mediana\n",
    "df['Money Earned'].median()"
   ]
  },
  {
   "cell_type": "code",
   "execution_count": 81,
   "metadata": {},
   "outputs": [
    {
     "data": {
      "text/plain": [
       "count     9.00\n",
       "mean     37.96\n",
       "std       6.03\n",
       "min      33.94\n",
       "25%      33.94\n",
       "50%      33.94\n",
       "75%      46.00\n",
       "max      46.00\n",
       "Name: Money Earned, dtype: float64"
      ]
     },
     "execution_count": 81,
     "metadata": {},
     "output_type": "execute_result"
    }
   ],
   "source": [
    "#Cálculos - Resumo estatístico (count, mean, std, min, 25%, 50%, 75%, max)\n",
    "df['Money Earned'].describe()"
   ]
  },
  {
   "cell_type": "code",
   "execution_count": 86,
   "metadata": {},
   "outputs": [
    {
     "data": {
      "text/html": [
       "<div>\n",
       "<style scoped>\n",
       "    .dataframe tbody tr th:only-of-type {\n",
       "        vertical-align: middle;\n",
       "    }\n",
       "\n",
       "    .dataframe tbody tr th {\n",
       "        vertical-align: top;\n",
       "    }\n",
       "\n",
       "    .dataframe thead th {\n",
       "        text-align: right;\n",
       "    }\n",
       "</style>\n",
       "<table border=\"1\" class=\"dataframe\">\n",
       "  <thead>\n",
       "    <tr style=\"text-align: right;\">\n",
       "      <th></th>\n",
       "      <th>Date</th>\n",
       "      <th>Time Worked</th>\n",
       "      <th>Money Earned</th>\n",
       "    </tr>\n",
       "  </thead>\n",
       "  <tbody>\n",
       "    <tr>\n",
       "      <th>0</th>\n",
       "      <td>11/05/19</td>\n",
       "      <td>3</td>\n",
       "      <td>33.94</td>\n",
       "    </tr>\n",
       "    <tr>\n",
       "      <th>1</th>\n",
       "      <td>12/05/19</td>\n",
       "      <td>3</td>\n",
       "      <td>33.94</td>\n",
       "    </tr>\n",
       "    <tr>\n",
       "      <th>3</th>\n",
       "      <td>25/05/19</td>\n",
       "      <td>3</td>\n",
       "      <td>33.94</td>\n",
       "    </tr>\n",
       "    <tr>\n",
       "      <th>4</th>\n",
       "      <td>26/05/19</td>\n",
       "      <td>3</td>\n",
       "      <td>33.94</td>\n",
       "    </tr>\n",
       "    <tr>\n",
       "      <th>6</th>\n",
       "      <td>10/06/19</td>\n",
       "      <td>3</td>\n",
       "      <td>33.94</td>\n",
       "    </tr>\n",
       "    <tr>\n",
       "      <th>8</th>\n",
       "      <td>14/06/19</td>\n",
       "      <td>3</td>\n",
       "      <td>33.94</td>\n",
       "    </tr>\n",
       "    <tr>\n",
       "      <th>2</th>\n",
       "      <td>19/05/19</td>\n",
       "      <td>4</td>\n",
       "      <td>46.00</td>\n",
       "    </tr>\n",
       "    <tr>\n",
       "      <th>5</th>\n",
       "      <td>1/06/19</td>\n",
       "      <td>4</td>\n",
       "      <td>46.00</td>\n",
       "    </tr>\n",
       "    <tr>\n",
       "      <th>7</th>\n",
       "      <td>12/06/19</td>\n",
       "      <td>4</td>\n",
       "      <td>46.00</td>\n",
       "    </tr>\n",
       "  </tbody>\n",
       "</table>\n",
       "</div>"
      ],
      "text/plain": [
       "       Date  Time Worked  Money Earned\n",
       "0  11/05/19            3         33.94\n",
       "1  12/05/19            3         33.94\n",
       "3  25/05/19            3         33.94\n",
       "4  26/05/19            3         33.94\n",
       "6  10/06/19            3         33.94\n",
       "8  14/06/19            3         33.94\n",
       "2  19/05/19            4         46.00\n",
       "5   1/06/19            4         46.00\n",
       "7  12/06/19            4         46.00"
      ]
     },
     "execution_count": 86,
     "metadata": {},
     "output_type": "execute_result"
    }
   ],
   "source": [
    "#Ordenando valores em crescente\n",
    "df.sort_values()"
   ]
  },
  {
   "cell_type": "code",
   "execution_count": 87,
   "metadata": {},
   "outputs": [
    {
     "data": {
      "text/html": [
       "<div>\n",
       "<style scoped>\n",
       "    .dataframe tbody tr th:only-of-type {\n",
       "        vertical-align: middle;\n",
       "    }\n",
       "\n",
       "    .dataframe tbody tr th {\n",
       "        vertical-align: top;\n",
       "    }\n",
       "\n",
       "    .dataframe thead th {\n",
       "        text-align: right;\n",
       "    }\n",
       "</style>\n",
       "<table border=\"1\" class=\"dataframe\">\n",
       "  <thead>\n",
       "    <tr style=\"text-align: right;\">\n",
       "      <th></th>\n",
       "      <th>Date</th>\n",
       "      <th>Time Worked</th>\n",
       "      <th>Money Earned</th>\n",
       "    </tr>\n",
       "  </thead>\n",
       "  <tbody>\n",
       "    <tr>\n",
       "      <th>2</th>\n",
       "      <td>19/05/19</td>\n",
       "      <td>4</td>\n",
       "      <td>46.00</td>\n",
       "    </tr>\n",
       "    <tr>\n",
       "      <th>5</th>\n",
       "      <td>1/06/19</td>\n",
       "      <td>4</td>\n",
       "      <td>46.00</td>\n",
       "    </tr>\n",
       "    <tr>\n",
       "      <th>7</th>\n",
       "      <td>12/06/19</td>\n",
       "      <td>4</td>\n",
       "      <td>46.00</td>\n",
       "    </tr>\n",
       "    <tr>\n",
       "      <th>0</th>\n",
       "      <td>11/05/19</td>\n",
       "      <td>3</td>\n",
       "      <td>33.94</td>\n",
       "    </tr>\n",
       "    <tr>\n",
       "      <th>1</th>\n",
       "      <td>12/05/19</td>\n",
       "      <td>3</td>\n",
       "      <td>33.94</td>\n",
       "    </tr>\n",
       "    <tr>\n",
       "      <th>3</th>\n",
       "      <td>25/05/19</td>\n",
       "      <td>3</td>\n",
       "      <td>33.94</td>\n",
       "    </tr>\n",
       "    <tr>\n",
       "      <th>4</th>\n",
       "      <td>26/05/19</td>\n",
       "      <td>3</td>\n",
       "      <td>33.94</td>\n",
       "    </tr>\n",
       "    <tr>\n",
       "      <th>6</th>\n",
       "      <td>10/06/19</td>\n",
       "      <td>3</td>\n",
       "      <td>33.94</td>\n",
       "    </tr>\n",
       "    <tr>\n",
       "      <th>8</th>\n",
       "      <td>14/06/19</td>\n",
       "      <td>3</td>\n",
       "      <td>33.94</td>\n",
       "    </tr>\n",
       "  </tbody>\n",
       "</table>\n",
       "</div>"
      ],
      "text/plain": [
       "       Date  Time Worked  Money Earned\n",
       "2  19/05/19            4         46.00\n",
       "5   1/06/19            4         46.00\n",
       "7  12/06/19            4         46.00\n",
       "0  11/05/19            3         33.94\n",
       "1  12/05/19            3         33.94\n",
       "3  25/05/19            3         33.94\n",
       "4  26/05/19            3         33.94\n",
       "6  10/06/19            3         33.94\n",
       "8  14/06/19            3         33.94"
      ]
     },
     "execution_count": 87,
     "metadata": {},
     "output_type": "execute_result"
    }
   ],
   "source": [
    "#Ordenando valores em decrescente\n",
    "df.sort_values(['Money Earned'], ascending=False)"
   ]
  },
  {
   "cell_type": "code",
   "execution_count": 10,
   "metadata": {},
   "outputs": [
    {
     "data": {
      "text/plain": [
       "<matplotlib.axes._subplots.AxesSubplot at 0xaf98c08128>"
      ]
     },
     "execution_count": 10,
     "metadata": {},
     "output_type": "execute_result"
    },
    {
     "data": {
      "image/png": "[encoded data removed]",
      "text/plain": [
       "<Figure size 432x288 with 1 Axes>"
      ]
     },
     "metadata": {
      "needs_background": "light"
     },
     "output_type": "display_data"
    }
   ],
   "source": [
    "#Plotando gráfico de barra\n",
    "df.plot(x ='Date', y='Money Earned', kind = 'bar')"
   ]
  },
  {
   "cell_type": "code",
   "execution_count": 103,
   "metadata": {},
   "outputs": [
    {
     "data": {
      "text/html": [
       "<div>\n",
       "<style scoped>\n",
       "    .dataframe tbody tr th:only-of-type {\n",
       "        vertical-align: middle;\n",
       "    }\n",
       "\n",
       "    .dataframe tbody tr th {\n",
       "        vertical-align: top;\n",
       "    }\n",
       "\n",
       "    .dataframe thead th {\n",
       "        text-align: right;\n",
       "    }\n",
       "</style>\n",
       "<table border=\"1\" class=\"dataframe\">\n",
       "  <thead>\n",
       "    <tr style=\"text-align: right;\">\n",
       "      <th></th>\n",
       "      <th>Date</th>\n",
       "      <th>Time Worked</th>\n",
       "      <th>Money Earned</th>\n",
       "    </tr>\n",
       "  </thead>\n",
       "  <tbody>\n",
       "    <tr>\n",
       "      <th>0</th>\n",
       "      <td>10/05/19</td>\n",
       "      <td>3</td>\n",
       "      <td>33.94</td>\n",
       "    </tr>\n",
       "    <tr>\n",
       "      <th>1</th>\n",
       "      <td>12/05/19</td>\n",
       "      <td>3</td>\n",
       "      <td>33.94</td>\n",
       "    </tr>\n",
       "    <tr>\n",
       "      <th>2</th>\n",
       "      <td>19/05/19</td>\n",
       "      <td>4</td>\n",
       "      <td>46.00</td>\n",
       "    </tr>\n",
       "    <tr>\n",
       "      <th>3</th>\n",
       "      <td>25/05/19</td>\n",
       "      <td>3</td>\n",
       "      <td>33.94</td>\n",
       "    </tr>\n",
       "    <tr>\n",
       "      <th>4</th>\n",
       "      <td>26/05/19</td>\n",
       "      <td>3</td>\n",
       "      <td>33.94</td>\n",
       "    </tr>\n",
       "    <tr>\n",
       "      <th>5</th>\n",
       "      <td>1/06/19</td>\n",
       "      <td>4</td>\n",
       "      <td>46.00</td>\n",
       "    </tr>\n",
       "    <tr>\n",
       "      <th>6</th>\n",
       "      <td>10/06/19</td>\n",
       "      <td>3</td>\n",
       "      <td>33.94</td>\n",
       "    </tr>\n",
       "    <tr>\n",
       "      <th>7</th>\n",
       "      <td>12/06/19</td>\n",
       "      <td>4</td>\n",
       "      <td>46.00</td>\n",
       "    </tr>\n",
       "    <tr>\n",
       "      <th>8</th>\n",
       "      <td>14/06/19</td>\n",
       "      <td>3</td>\n",
       "      <td>33.94</td>\n",
       "    </tr>\n",
       "  </tbody>\n",
       "</table>\n",
       "</div>"
      ],
      "text/plain": [
       "       Date  Time Worked  Money Earned\n",
       "0  10/05/19            3         33.94\n",
       "1  12/05/19            3         33.94\n",
       "2  19/05/19            4         46.00\n",
       "3  25/05/19            3         33.94\n",
       "4  26/05/19            3         33.94\n",
       "5   1/06/19            4         46.00\n",
       "6  10/06/19            3         33.94\n",
       "7  12/06/19            4         46.00\n",
       "8  14/06/19            3         33.94"
      ]
     },
     "execution_count": 103,
     "metadata": {},
     "output_type": "execute_result"
    }
   ],
   "source": [
    "#Replace\n",
    "df = df.apply(lambda x: x.replace('11/05/19', '10/05/19'))\n",
    "df"
   ]
  },
  {
   "cell_type": "code",
   "execution_count": 108,
   "metadata": {},
   "outputs": [
    {
     "name": "stdout",
     "output_type": "stream",
     "text": [
      "Total de dinheiro:  341.64  :)\n"
     ]
    }
   ],
   "source": [
    "#Print\n",
    "print(\"Total de dinheiro: \",df['Money Earned'].sum(),\" :)\")"
   ]
  },
  {
   "cell_type": "code",
   "execution_count": 16,
   "metadata": {},
   "outputs": [
    {
     "name": "stdout",
     "output_type": "stream",
     "text": [
      "Enter the date you want to search ===> 26/02/1022\n"
     ]
    },
    {
     "data": {
      "text/html": [
       "<div>\n",
       "<style scoped>\n",
       "    .dataframe tbody tr th:only-of-type {\n",
       "        vertical-align: middle;\n",
       "    }\n",
       "\n",
       "    .dataframe tbody tr th {\n",
       "        vertical-align: top;\n",
       "    }\n",
       "\n",
       "    .dataframe thead th {\n",
       "        text-align: right;\n",
       "    }\n",
       "</style>\n",
       "<table border=\"1\" class=\"dataframe\">\n",
       "  <thead>\n",
       "    <tr style=\"text-align: right;\">\n",
       "      <th></th>\n",
       "      <th>Date</th>\n",
       "      <th>Time Worked</th>\n",
       "      <th>Money Earned</th>\n",
       "    </tr>\n",
       "  </thead>\n",
       "  <tbody>\n",
       "  </tbody>\n",
       "</table>\n",
       "</div>"
      ],
      "text/plain": [
       "Empty DataFrame\n",
       "Columns: [Date, Time Worked, Money Earned]\n",
       "Index: []"
      ]
     },
     "execution_count": 16,
     "metadata": {},
     "output_type": "execute_result"
    }
   ],
   "source": [
    "#Incluindo campo de busca\n",
    "date = input(\"Enter the date you want to search ===> \")\n",
    "df[df['Date'].str.contains(date)]"
   ]
  },
  {
   "cell_type": "code",
   "execution_count": null,
   "metadata": {
    "scrolled": true
   },
   "outputs": [],
   "source": [
    "#Abrindo arquivos CSV\n",
    "pd.read_csv('resultado_tweets.csv', encoding='ISO-8859-1')"
   ]
  },
  {
   "cell_type": "code",
   "execution_count": null,
   "metadata": {
    "scrolled": false
   },
   "outputs": [],
   "source": [
    "#Abrindo arquivos Excel\n",
    "pd.read_excel(xlsx, 'Sheet1')"
   ]
  }
 ],
 "metadata": {
  "kernelspec": {
   "display_name": "Python 3",
   "language": "python",
   "name": "python3"
  },
  "language_info": {
   "codemirror_mode": {
    "name": "ipython",
    "version": 3
   },
   "file_extension": ".py",
   "mimetype": "text/x-python",
   "name": "python",
   "nbconvert_exporter": "python",
   "pygments_lexer": "ipython3",
   "version": "3.7.3"
  }
 },
 "nbformat": 4,
 "nbformat_minor": 2
}
